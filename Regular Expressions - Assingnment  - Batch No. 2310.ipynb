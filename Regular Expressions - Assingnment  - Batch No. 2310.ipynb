{
 "cells": [
  {
   "cell_type": "code",
   "execution_count": 1,
   "id": "fbb49b66",
   "metadata": {},
   "outputs": [],
   "source": [
    "import re\n",
    "import pandas as pd"
   ]
  },
  {
   "cell_type": "markdown",
   "id": "a21bc39b",
   "metadata": {},
   "source": [
    "### Question 1\n",
    "###### Write a Python program to replace all occurrences of a space, comma, or dot with a colon.\n",
    "\n",
    "\n",
    "Sample Text- 'Python Exercises, PHP exercises.'\n",
    "\n",
    "Expected Output: Python:Exercises::PHP:exercises:\n"
   ]
  },
  {
   "cell_type": "code",
   "execution_count": 2,
   "id": "87a713e5",
   "metadata": {},
   "outputs": [
    {
     "name": "stdout",
     "output_type": "stream",
     "text": [
      "Python:Exercises::PHP:exercises:\n"
     ]
    }
   ],
   "source": [
    "String = 'Python Exercises, PHP exercises.'\n",
    "result = re.sub(r'[ ,.]', ':', String)\n",
    "print(result)\n"
   ]
  },
  {
   "cell_type": "markdown",
   "id": "3479a982",
   "metadata": {},
   "source": [
    "### Question 2 \n",
    "###### Create a dataframe using the dictionary below and remove everything (commas (,), !, XXXX, ;, etc.) from the columns except words.\n",
    "Dictionary- {'SUMMARY' : ['hello, world!', 'XXXXX test', '123four, five:; six...']}\n",
    "Expected output-\n",
    "0      hello world\n",
    "1             test\n",
    "2    four five six\n"
   ]
  },
  {
   "cell_type": "code",
   "execution_count": 3,
   "id": "db6c52d2",
   "metadata": {},
   "outputs": [
    {
     "name": "stdout",
     "output_type": "stream",
     "text": [
      "         SUMMARY\n",
      "0    hello world\n",
      "1     XXXXX test\n",
      "2  four five six\n"
     ]
    }
   ],
   "source": [
    "data = {'SUMMARY': ['hello, world!', 'XXXXX test', '123four, five:; six...']}\n",
    "df = pd.DataFrame(data)\n",
    "\n",
    "df['SUMMARY'] = df['SUMMARY'].apply(lambda x: ' '.join(re.findall(r'[a-zA-Z]+', x)))\n",
    "\n",
    "print(df)"
   ]
  },
  {
   "cell_type": "markdown",
   "id": "9e123b87",
   "metadata": {},
   "source": [
    "### Question 3\n",
    "\n",
    "###### Create a function in python to find all words that are at least 4 characters long in a string. The use of the re.compile() method is mandatory.\n"
   ]
  },
  {
   "cell_type": "code",
   "execution_count": 4,
   "id": "de25ef4b",
   "metadata": {},
   "outputs": [
    {
     "name": "stdout",
     "output_type": "stream",
     "text": [
      "['Name', 'Amzad', 'Khan', 'From', 'Jaipur', 'Batch', 'Number', '2310']\n"
     ]
    }
   ],
   "source": [
    "def find_long_words(text):\n",
    "    \n",
    "    #Create A Compiled Regular Expression Pattern\n",
    "    pattern = re.compile(r'\\b\\w{4,}\\b')\n",
    "    # Use The Pattern To Find All Matching Words In The Text\n",
    "    long_words = pattern.findall(text)\n",
    "    \n",
    "    return long_words\n",
    "\n",
    "input_text = \"My Name Is Amzad Khan And i Am From Jaipur My Batch Number Is 2310.\"\n",
    "long_words = find_long_words(input_text)\n",
    "print(long_words)\n",
    "\n"
   ]
  },
  {
   "cell_type": "markdown",
   "id": "47492c2e",
   "metadata": {},
   "source": [
    "### Question 4\n",
    "\n",
    "###### Create a function in python to find all three, four, and five character words in a string. The use of the re.compile() method is mandatory."
   ]
  },
  {
   "cell_type": "code",
   "execution_count": 5,
   "id": "9d26f63a",
   "metadata": {},
   "outputs": [
    {
     "name": "stdout",
     "output_type": "stream",
     "text": [
      "['This', 'Only', 'For', 'Check', 'That', 'Our', 'Code', 'Not', 'Amzad']\n"
     ]
    }
   ],
   "source": [
    "def find_length(text):\n",
    "    pattern = re.compile(r'\\b\\w{3,5}\\b')\n",
    "    words =  pattern.findall(text)\n",
    "    return words\n",
    "\n",
    "input_text = \"This is  Only For Testing Pupose. To Check That Our Code Is  Correct Or Not.  I Am Amzad .\"\n",
    "selected_words = find_length(input_text)\n",
    "print(selected_words)"
   ]
  },
  {
   "cell_type": "markdown",
   "id": "71747fc2",
   "metadata": {},
   "source": [
    "### Question 5\n",
    "\n",
    "\n",
    "###### Create a function in Python to remove the parenthesis in a list of strings. The use of the re.compile() method is mandatory.\n",
    "Sample Text: \"\"[\"example (.com)\", \"hr@fliprobo (.com)\", \"github (.com)\", \"Hello (Data Science World)\", \"Data (Scientist)\"]\"\"\n",
    "\n",
    "\n",
    "Expected Output:\n",
    "example.com\n",
    "hr@fliprobo.com\n",
    "github.com\n",
    "Hello Data Science World\n"
   ]
  },
  {
   "cell_type": "code",
   "execution_count": 6,
   "id": "142bd201",
   "metadata": {},
   "outputs": [
    {
     "name": "stdout",
     "output_type": "stream",
     "text": [
      "example .com\n",
      "hr@fliprobo .com\n",
      "github .com\n",
      "Hello Data Science World\n",
      "Data Scientist\n"
     ]
    }
   ],
   "source": [
    "def remove_parentheses(strings):\n",
    "    result = []\n",
    "    pattern = re.compile(r'\\(([^)]*)\\)')\n",
    "\n",
    "    for string in strings:\n",
    "       \n",
    "        cleaned_string = re.sub(pattern, r'\\1', string)\n",
    "        result.append(cleaned_string)\n",
    "    return result\n",
    "\n",
    "sample_text = [\"example (.com)\", \"hr@fliprobo (.com)\", \"github (.com)\", \"Hello (Data Science World)\", \"Data (Scientist)\"]\n",
    "\n",
    "cleaned_text = remove_parentheses(sample_text)\n",
    "for text in cleaned_text:\n",
    "    print(text)\n",
    "\n"
   ]
  },
  {
   "cell_type": "markdown",
   "id": "c4725db7",
   "metadata": {},
   "source": [
    "### Question 6\n",
    "\n",
    "\n",
    "###### Write a python program to remove the parenthesis area from the text stored in the text file using Regular Expression.\n",
    "\n",
    "Sample Text: '[\"example (.com)\", \"hr@fliprobo (.com)\", \"github (.com)\", \"Hello (Data Science World)\", \"Data (Scientist)\"]'\n",
    "\n",
    "Expected Output: \"[\"example\", \"hr@fliprobo\", \"github\", \"Hello\", \"Data\"]\"\n",
    "\n",
    "\n",
    "Note- Store given sample text in the text file and then to remove the parenthesis area from the text.\n"
   ]
  },
  {
   "cell_type": "code",
   "execution_count": 7,
   "id": "bf1e5494",
   "metadata": {},
   "outputs": [
    {
     "name": "stdout",
     "output_type": "stream",
     "text": [
      "Parentheses removed and saved to the file.\n",
      " [\"example \", \"hr@fliprobo \", \"github \", \"Hello \", \"Data \"]\n"
     ]
    }
   ],
   "source": [
    "with open('Quetion_Six.txt', 'r') as file:\n",
    "    text = file.read()\n",
    "\n",
    "clean_text = re.sub(r'\\s*\\([^)]*\\)', '', text)\n",
    "\n",
    "with open('output.txt', 'w') as file:\n",
    "    file.write(clean_text)\n",
    "    print(\"Parentheses removed and saved to the file.\")\n",
    "    print(clean_text)"
   ]
  },
  {
   "cell_type": "markdown",
   "id": "cbfeb7e9",
   "metadata": {},
   "source": [
    "### Question 7\n",
    "\n",
    "###### Write a regular expression in Python to split a string into uppercase letters.\n",
    "\n",
    "Sample text: “ImportanceOfRegularExpressionsInPython”\n",
    "\n",
    "\n",
    "Expected Output: '[‘Importance’, ‘Of’, ‘Regular’, ‘Expression’, ‘In’, ‘Python’]'\n"
   ]
  },
  {
   "cell_type": "code",
   "execution_count": 8,
   "id": "623e105b",
   "metadata": {},
   "outputs": [
    {
     "name": "stdout",
     "output_type": "stream",
     "text": [
      "['Importance', 'Of', 'Regular', 'Expressions', 'In', 'Python']\n"
     ]
    }
   ],
   "source": [
    "sample_text = \"ImportanceOfRegularExpressionsInPython\"\n",
    "split_text = re.findall(r'[A-Z][a-z]*', sample_text)\n",
    "\n",
    "print(split_text)\n"
   ]
  },
  {
   "cell_type": "markdown",
   "id": "9c96905c",
   "metadata": {},
   "source": [
    "### Question 8\n",
    "\n",
    "\n",
    "###### Create a function in python to insert spaces between words starting with numbers.\n",
    "\n",
    "Sample Text: “RegularExpression1IsAn2ImportantTopic3InPython\"\n",
    "\n",
    "Expected Output: RegularExpression 1IsAn 2ImportantTopic 3InPython\n"
   ]
  },
  {
   "cell_type": "code",
   "execution_count": 35,
   "id": "70004d4e",
   "metadata": {},
   "outputs": [
    {
     "name": "stdout",
     "output_type": "stream",
     "text": [
      "RegularExpression1 IsAn2 ImportantTopic3 InPython\n"
     ]
    }
   ],
   "source": [
    "def insrt_spc(text):\n",
    "    modified_text = re.sub(r'(\\d)([A-Za-z])', r'\\1 \\2', text)\n",
    "    return modified_text\n",
    "\n",
    "# Example usage\n",
    "smpl_txt = \"RegularExpression1IsAn2ImportantTopic3InPython\"\n",
    "\n",
    "result = insrt_spc(smpl_txt)\n",
    "\n",
    "print(result)"
   ]
  },
  {
   "cell_type": "markdown",
   "id": "a34aa003",
   "metadata": {},
   "source": [
    "### Question 9\n",
    "\n",
    "###### Create a function in python to insert spaces between words starting with capital letters or with numbers.\n",
    "\n",
    "Sample Text: “RegularExpression1IsAn2ImportantTopic3InPython\"\n",
    "\n",
    "Expected Output:  RegularExpression 1 IsAn 2 ImportantTopic 3 InPython\n"
   ]
  },
  {
   "cell_type": "code",
   "execution_count": 10,
   "id": "7e867911",
   "metadata": {},
   "outputs": [
    {
     "name": "stdout",
     "output_type": "stream",
     "text": [
      " Regular Expression 1 Is An 2 Important Topic 3 In Python\n"
     ]
    }
   ],
   "source": [
    "def insrt_spc(text):\n",
    "\n",
    "    modified_text =  re.sub(r'([A-Z0-9][a-z]*)', r' \\1', text)\n",
    "    return modified_text\n",
    "\n",
    "smpl_txt = \"RegularExpression1IsAn2ImportantTopic3InPython\"\n",
    "\n",
    "result = insrt_spc(smpl_txt)\n",
    "\n",
    "print(result)"
   ]
  },
  {
   "cell_type": "markdown",
   "id": "825fce46",
   "metadata": {},
   "source": [
    "### Question 10\n",
    "###### Use the github link below to read the data and create a dataframe. After creating the dataframe extract the first 6 letters of each country and store in the dataframe under a new column called first_five_letters.\n",
    "\n",
    "\n",
    "Github Link-  https://raw.githubusercontent.com/dsrscientist/DSData/master/happiness_score_dataset.csv\n"
   ]
  },
  {
   "cell_type": "code",
   "execution_count": 11,
   "id": "66086a79",
   "metadata": {},
   "outputs": [],
   "source": [
    "import pandas as pd\n",
    "\n",
    "df = pd.read_csv('https://raw.githubusercontent.com/dsrscientist/DSData/master/happiness_score_dataset.csv')\n",
    "\n",
    "data = pd.DataFrame(df)"
   ]
  },
  {
   "cell_type": "code",
   "execution_count": 12,
   "id": "d210c01c",
   "metadata": {},
   "outputs": [
    {
     "data": {
      "text/html": [
       "<div>\n",
       "<style scoped>\n",
       "    .dataframe tbody tr th:only-of-type {\n",
       "        vertical-align: middle;\n",
       "    }\n",
       "\n",
       "    .dataframe tbody tr th {\n",
       "        vertical-align: top;\n",
       "    }\n",
       "\n",
       "    .dataframe thead th {\n",
       "        text-align: right;\n",
       "    }\n",
       "</style>\n",
       "<table border=\"1\" class=\"dataframe\">\n",
       "  <thead>\n",
       "    <tr style=\"text-align: right;\">\n",
       "      <th></th>\n",
       "      <th>Country</th>\n",
       "      <th>Region</th>\n",
       "      <th>Happiness Rank</th>\n",
       "      <th>Happiness Score</th>\n",
       "      <th>Standard Error</th>\n",
       "      <th>Economy (GDP per Capita)</th>\n",
       "      <th>Family</th>\n",
       "      <th>Health (Life Expectancy)</th>\n",
       "      <th>Freedom</th>\n",
       "      <th>Trust (Government Corruption)</th>\n",
       "      <th>Generosity</th>\n",
       "      <th>Dystopia Residual</th>\n",
       "    </tr>\n",
       "  </thead>\n",
       "  <tbody>\n",
       "    <tr>\n",
       "      <th>0</th>\n",
       "      <td>Switzerland</td>\n",
       "      <td>Western Europe</td>\n",
       "      <td>1</td>\n",
       "      <td>7.587</td>\n",
       "      <td>0.03411</td>\n",
       "      <td>1.39651</td>\n",
       "      <td>1.34951</td>\n",
       "      <td>0.94143</td>\n",
       "      <td>0.66557</td>\n",
       "      <td>0.41978</td>\n",
       "      <td>0.29678</td>\n",
       "      <td>2.51738</td>\n",
       "    </tr>\n",
       "    <tr>\n",
       "      <th>1</th>\n",
       "      <td>Iceland</td>\n",
       "      <td>Western Europe</td>\n",
       "      <td>2</td>\n",
       "      <td>7.561</td>\n",
       "      <td>0.04884</td>\n",
       "      <td>1.30232</td>\n",
       "      <td>1.40223</td>\n",
       "      <td>0.94784</td>\n",
       "      <td>0.62877</td>\n",
       "      <td>0.14145</td>\n",
       "      <td>0.43630</td>\n",
       "      <td>2.70201</td>\n",
       "    </tr>\n",
       "    <tr>\n",
       "      <th>2</th>\n",
       "      <td>Denmark</td>\n",
       "      <td>Western Europe</td>\n",
       "      <td>3</td>\n",
       "      <td>7.527</td>\n",
       "      <td>0.03328</td>\n",
       "      <td>1.32548</td>\n",
       "      <td>1.36058</td>\n",
       "      <td>0.87464</td>\n",
       "      <td>0.64938</td>\n",
       "      <td>0.48357</td>\n",
       "      <td>0.34139</td>\n",
       "      <td>2.49204</td>\n",
       "    </tr>\n",
       "    <tr>\n",
       "      <th>3</th>\n",
       "      <td>Norway</td>\n",
       "      <td>Western Europe</td>\n",
       "      <td>4</td>\n",
       "      <td>7.522</td>\n",
       "      <td>0.03880</td>\n",
       "      <td>1.45900</td>\n",
       "      <td>1.33095</td>\n",
       "      <td>0.88521</td>\n",
       "      <td>0.66973</td>\n",
       "      <td>0.36503</td>\n",
       "      <td>0.34699</td>\n",
       "      <td>2.46531</td>\n",
       "    </tr>\n",
       "    <tr>\n",
       "      <th>4</th>\n",
       "      <td>Canada</td>\n",
       "      <td>North America</td>\n",
       "      <td>5</td>\n",
       "      <td>7.427</td>\n",
       "      <td>0.03553</td>\n",
       "      <td>1.32629</td>\n",
       "      <td>1.32261</td>\n",
       "      <td>0.90563</td>\n",
       "      <td>0.63297</td>\n",
       "      <td>0.32957</td>\n",
       "      <td>0.45811</td>\n",
       "      <td>2.45176</td>\n",
       "    </tr>\n",
       "    <tr>\n",
       "      <th>...</th>\n",
       "      <td>...</td>\n",
       "      <td>...</td>\n",
       "      <td>...</td>\n",
       "      <td>...</td>\n",
       "      <td>...</td>\n",
       "      <td>...</td>\n",
       "      <td>...</td>\n",
       "      <td>...</td>\n",
       "      <td>...</td>\n",
       "      <td>...</td>\n",
       "      <td>...</td>\n",
       "      <td>...</td>\n",
       "    </tr>\n",
       "    <tr>\n",
       "      <th>153</th>\n",
       "      <td>Rwanda</td>\n",
       "      <td>Sub-Saharan Africa</td>\n",
       "      <td>154</td>\n",
       "      <td>3.465</td>\n",
       "      <td>0.03464</td>\n",
       "      <td>0.22208</td>\n",
       "      <td>0.77370</td>\n",
       "      <td>0.42864</td>\n",
       "      <td>0.59201</td>\n",
       "      <td>0.55191</td>\n",
       "      <td>0.22628</td>\n",
       "      <td>0.67042</td>\n",
       "    </tr>\n",
       "    <tr>\n",
       "      <th>154</th>\n",
       "      <td>Benin</td>\n",
       "      <td>Sub-Saharan Africa</td>\n",
       "      <td>155</td>\n",
       "      <td>3.340</td>\n",
       "      <td>0.03656</td>\n",
       "      <td>0.28665</td>\n",
       "      <td>0.35386</td>\n",
       "      <td>0.31910</td>\n",
       "      <td>0.48450</td>\n",
       "      <td>0.08010</td>\n",
       "      <td>0.18260</td>\n",
       "      <td>1.63328</td>\n",
       "    </tr>\n",
       "    <tr>\n",
       "      <th>155</th>\n",
       "      <td>Syria</td>\n",
       "      <td>Middle East and Northern Africa</td>\n",
       "      <td>156</td>\n",
       "      <td>3.006</td>\n",
       "      <td>0.05015</td>\n",
       "      <td>0.66320</td>\n",
       "      <td>0.47489</td>\n",
       "      <td>0.72193</td>\n",
       "      <td>0.15684</td>\n",
       "      <td>0.18906</td>\n",
       "      <td>0.47179</td>\n",
       "      <td>0.32858</td>\n",
       "    </tr>\n",
       "    <tr>\n",
       "      <th>156</th>\n",
       "      <td>Burundi</td>\n",
       "      <td>Sub-Saharan Africa</td>\n",
       "      <td>157</td>\n",
       "      <td>2.905</td>\n",
       "      <td>0.08658</td>\n",
       "      <td>0.01530</td>\n",
       "      <td>0.41587</td>\n",
       "      <td>0.22396</td>\n",
       "      <td>0.11850</td>\n",
       "      <td>0.10062</td>\n",
       "      <td>0.19727</td>\n",
       "      <td>1.83302</td>\n",
       "    </tr>\n",
       "    <tr>\n",
       "      <th>157</th>\n",
       "      <td>Togo</td>\n",
       "      <td>Sub-Saharan Africa</td>\n",
       "      <td>158</td>\n",
       "      <td>2.839</td>\n",
       "      <td>0.06727</td>\n",
       "      <td>0.20868</td>\n",
       "      <td>0.13995</td>\n",
       "      <td>0.28443</td>\n",
       "      <td>0.36453</td>\n",
       "      <td>0.10731</td>\n",
       "      <td>0.16681</td>\n",
       "      <td>1.56726</td>\n",
       "    </tr>\n",
       "  </tbody>\n",
       "</table>\n",
       "<p>158 rows × 12 columns</p>\n",
       "</div>"
      ],
      "text/plain": [
       "         Country                           Region  Happiness Rank  \\\n",
       "0    Switzerland                   Western Europe               1   \n",
       "1        Iceland                   Western Europe               2   \n",
       "2        Denmark                   Western Europe               3   \n",
       "3         Norway                   Western Europe               4   \n",
       "4         Canada                    North America               5   \n",
       "..           ...                              ...             ...   \n",
       "153       Rwanda               Sub-Saharan Africa             154   \n",
       "154        Benin               Sub-Saharan Africa             155   \n",
       "155        Syria  Middle East and Northern Africa             156   \n",
       "156      Burundi               Sub-Saharan Africa             157   \n",
       "157         Togo               Sub-Saharan Africa             158   \n",
       "\n",
       "     Happiness Score  Standard Error  Economy (GDP per Capita)   Family  \\\n",
       "0              7.587         0.03411                   1.39651  1.34951   \n",
       "1              7.561         0.04884                   1.30232  1.40223   \n",
       "2              7.527         0.03328                   1.32548  1.36058   \n",
       "3              7.522         0.03880                   1.45900  1.33095   \n",
       "4              7.427         0.03553                   1.32629  1.32261   \n",
       "..               ...             ...                       ...      ...   \n",
       "153            3.465         0.03464                   0.22208  0.77370   \n",
       "154            3.340         0.03656                   0.28665  0.35386   \n",
       "155            3.006         0.05015                   0.66320  0.47489   \n",
       "156            2.905         0.08658                   0.01530  0.41587   \n",
       "157            2.839         0.06727                   0.20868  0.13995   \n",
       "\n",
       "     Health (Life Expectancy)  Freedom  Trust (Government Corruption)  \\\n",
       "0                     0.94143  0.66557                        0.41978   \n",
       "1                     0.94784  0.62877                        0.14145   \n",
       "2                     0.87464  0.64938                        0.48357   \n",
       "3                     0.88521  0.66973                        0.36503   \n",
       "4                     0.90563  0.63297                        0.32957   \n",
       "..                        ...      ...                            ...   \n",
       "153                   0.42864  0.59201                        0.55191   \n",
       "154                   0.31910  0.48450                        0.08010   \n",
       "155                   0.72193  0.15684                        0.18906   \n",
       "156                   0.22396  0.11850                        0.10062   \n",
       "157                   0.28443  0.36453                        0.10731   \n",
       "\n",
       "     Generosity  Dystopia Residual  \n",
       "0       0.29678            2.51738  \n",
       "1       0.43630            2.70201  \n",
       "2       0.34139            2.49204  \n",
       "3       0.34699            2.46531  \n",
       "4       0.45811            2.45176  \n",
       "..          ...                ...  \n",
       "153     0.22628            0.67042  \n",
       "154     0.18260            1.63328  \n",
       "155     0.47179            0.32858  \n",
       "156     0.19727            1.83302  \n",
       "157     0.16681            1.56726  \n",
       "\n",
       "[158 rows x 12 columns]"
      ]
     },
     "execution_count": 12,
     "metadata": {},
     "output_type": "execute_result"
    }
   ],
   "source": [
    "data"
   ]
  },
  {
   "cell_type": "code",
   "execution_count": 13,
   "id": "a2c5f43a",
   "metadata": {},
   "outputs": [
    {
     "name": "stdout",
     "output_type": "stream",
     "text": [
      "0      Switze\n",
      "1      Icelan\n",
      "2      Denmar\n",
      "3      Norway\n",
      "4      Canada\n",
      "        ...  \n",
      "153    Rwanda\n",
      "154     Benin\n",
      "155     Syria\n",
      "156    Burund\n",
      "157      Togo\n",
      "Name: Country, Length: 158, dtype: object\n"
     ]
    }
   ],
   "source": [
    "# Extract the first 6 letters of each country\n",
    "df = data['first_five_letters'] = data['Country'].str[:6]\n",
    "\n",
    "# Display the DataFrame with the new column\n",
    "print(df)"
   ]
  },
  {
   "cell_type": "code",
   "execution_count": 14,
   "id": "5c98f150",
   "metadata": {},
   "outputs": [
    {
     "data": {
      "text/html": [
       "<div>\n",
       "<style scoped>\n",
       "    .dataframe tbody tr th:only-of-type {\n",
       "        vertical-align: middle;\n",
       "    }\n",
       "\n",
       "    .dataframe tbody tr th {\n",
       "        vertical-align: top;\n",
       "    }\n",
       "\n",
       "    .dataframe thead th {\n",
       "        text-align: right;\n",
       "    }\n",
       "</style>\n",
       "<table border=\"1\" class=\"dataframe\">\n",
       "  <thead>\n",
       "    <tr style=\"text-align: right;\">\n",
       "      <th></th>\n",
       "      <th>Country</th>\n",
       "    </tr>\n",
       "  </thead>\n",
       "  <tbody>\n",
       "    <tr>\n",
       "      <th>0</th>\n",
       "      <td>Switze</td>\n",
       "    </tr>\n",
       "    <tr>\n",
       "      <th>1</th>\n",
       "      <td>Icelan</td>\n",
       "    </tr>\n",
       "    <tr>\n",
       "      <th>2</th>\n",
       "      <td>Denmar</td>\n",
       "    </tr>\n",
       "    <tr>\n",
       "      <th>3</th>\n",
       "      <td>Norway</td>\n",
       "    </tr>\n",
       "    <tr>\n",
       "      <th>4</th>\n",
       "      <td>Canada</td>\n",
       "    </tr>\n",
       "    <tr>\n",
       "      <th>...</th>\n",
       "      <td>...</td>\n",
       "    </tr>\n",
       "    <tr>\n",
       "      <th>153</th>\n",
       "      <td>Rwanda</td>\n",
       "    </tr>\n",
       "    <tr>\n",
       "      <th>154</th>\n",
       "      <td>Benin</td>\n",
       "    </tr>\n",
       "    <tr>\n",
       "      <th>155</th>\n",
       "      <td>Syria</td>\n",
       "    </tr>\n",
       "    <tr>\n",
       "      <th>156</th>\n",
       "      <td>Burund</td>\n",
       "    </tr>\n",
       "    <tr>\n",
       "      <th>157</th>\n",
       "      <td>Togo</td>\n",
       "    </tr>\n",
       "  </tbody>\n",
       "</table>\n",
       "<p>158 rows × 1 columns</p>\n",
       "</div>"
      ],
      "text/plain": [
       "    Country\n",
       "0    Switze\n",
       "1    Icelan\n",
       "2    Denmar\n",
       "3    Norway\n",
       "4    Canada\n",
       "..      ...\n",
       "153  Rwanda\n",
       "154   Benin\n",
       "155   Syria\n",
       "156  Burund\n",
       "157    Togo\n",
       "\n",
       "[158 rows x 1 columns]"
      ]
     },
     "execution_count": 14,
     "metadata": {},
     "output_type": "execute_result"
    }
   ],
   "source": [
    "final_df = pd.DataFrame(df)\n",
    "final_df"
   ]
  },
  {
   "cell_type": "markdown",
   "id": "51d139cb",
   "metadata": {},
   "source": [
    "### Question 11\n",
    "\n",
    "###### Write a Python program to match a string that contains only upper and lowercase letters, numbers, and underscores"
   ]
  },
  {
   "cell_type": "code",
   "execution_count": 15,
   "id": "5df4468b",
   "metadata": {},
   "outputs": [
    {
     "name": "stdout",
     "output_type": "stream",
     "text": [
      "True\n"
     ]
    }
   ],
   "source": [
    "def string(input_string):\n",
    "    # Define the regular expression pattern\n",
    "    pattern = r'^[a-zA-Z0-9_]+$'\n",
    "    \n",
    "    # Use re.match() to check if the input string matches the pattern\n",
    "    if re.match(pattern, input_string):\n",
    "        return True\n",
    "    else:\n",
    "        return False\n",
    "\n",
    "# Example usage\n",
    "input_string= \"Hello_World123\"\n",
    "result = string(input_string)\n",
    "print(result)"
   ]
  },
  {
   "cell_type": "markdown",
   "id": "3befdeb5",
   "metadata": {},
   "source": [
    "### Question 12\n",
    "\n",
    "###### Write a Python program where a string will start with a specific number"
   ]
  },
  {
   "cell_type": "code",
   "execution_count": 16,
   "id": "14e8e978",
   "metadata": {},
   "outputs": [
    {
     "name": "stdout",
     "output_type": "stream",
     "text": [
      "The string starts with the specific number.\n"
     ]
    }
   ],
   "source": [
    "sample_text = \"123abc\"\n",
    "specific_number = 123\n",
    "\n",
    "pattern = r'^' + str(specific_number) + r'.*'\n",
    "match = re.match(pattern, sample_text)\n",
    "\n",
    "if match:\n",
    "    print(\"The string starts with the specific number.\")\n",
    "else:\n",
    "    print(\"The string does not have !.\")"
   ]
  },
  {
   "cell_type": "markdown",
   "id": "f0d37829",
   "metadata": {},
   "source": [
    "### Question 13\n",
    "\n",
    "###### Write a Python program to remove leading zeros from an IP address"
   ]
  },
  {
   "cell_type": "code",
   "execution_count": 17,
   "id": "14d579eb",
   "metadata": {},
   "outputs": [
    {
     "name": "stdout",
     "output_type": "stream",
     "text": [
      "184.168.1.1\n"
     ]
    }
   ],
   "source": [
    "# Input IP address with leading zeros\n",
    "ip_add = \"00184.0168.01.001\"\n",
    "\n",
    "# Remove leading zeros using regular expressions\n",
    "ip_clean = re.sub(r'\\b0+(\\d+)', r'\\1', ip_add)\n",
    "\n",
    "# Print the cleaned IP address\n",
    "print(ip_clean)\n"
   ]
  },
  {
   "cell_type": "markdown",
   "id": "0f172b9e",
   "metadata": {},
   "source": [
    "### Question 14\n",
    "\n",
    "###### Write a regular expression in python to match a date string in the form of Month name followed by day number and year stored in a text file.\n",
    "\n",
    "Sample text :  ' On August 15th 1947 that India was declared independent from British colonialism, and the reins of control were handed over to the leaders of the Country’.\n",
    "\n",
    "Expected Output- August 15th 1947\n",
    "\n",
    "Note- Store given sample text in the text file and then extract the date string asked format.\n"
   ]
  },
  {
   "cell_type": "code",
   "execution_count": 18,
   "id": "0ea72568",
   "metadata": {},
   "outputs": [
    {
     "name": "stdout",
     "output_type": "stream",
     "text": [
      "['August 15th 1947']\n"
     ]
    }
   ],
   "source": [
    "with open(\"Sample_txt.txt\", \"r\") as file:\n",
    "    text = file.read()\n",
    "\n",
    "# Use regular expressions to extract the date string\n",
    "pattern = r'\\b[A-Z][a-z]+\\s\\d+(?:st|nd|rd|th)\\s\\d{4}\\b'\n",
    "matches = re.findall(pattern, text)\n",
    "\n",
    "print(matches)\n"
   ]
  },
  {
   "cell_type": "markdown",
   "id": "a4ea8dfb",
   "metadata": {},
   "source": [
    "### Question 15\n",
    "\n",
    "###### Write a Python program to search some literals strings in a string. \n",
    "\n",
    "Sample text : 'The quick brown fox jumps over the lazy dog.'\n",
    "\n",
    "Searched words : 'fox', 'dog', 'horse'\n"
   ]
  },
  {
   "cell_type": "code",
   "execution_count": 19,
   "id": "9a8645ea",
   "metadata": {},
   "outputs": [
    {
     "name": "stdout",
     "output_type": "stream",
     "text": [
      "Found: fox\n",
      "Found: dog\n"
     ]
    }
   ],
   "source": [
    "text = 'The quick brown fox jumps over the lazy dog.'\n",
    "words = ['fox', 'dog',]\n",
    "pattern = '|'.join([re.escape(word) for word in words])\n",
    "\n",
    "matches = re.findall(pattern, text)\n",
    "for match in matches:\n",
    "    print(f\"Found: {match}\")\n",
    "    \n",
    "#horse is not is text"
   ]
  },
  {
   "cell_type": "markdown",
   "id": "cb4bfe11",
   "metadata": {},
   "source": [
    "### Question 16\n",
    "\n",
    "###### Write a Python program to search a literals string in a string and also find the location within the original string where the pattern occurs\n",
    "\n",
    "Sample text : 'The quick brown fox jumps over the lazy dog.'\n",
    "\n",
    "Searched words : 'fox'\n"
   ]
  },
  {
   "cell_type": "code",
   "execution_count": 20,
   "id": "629688be",
   "metadata": {},
   "outputs": [
    {
     "name": "stdout",
     "output_type": "stream",
     "text": [
      "'fox' found at position 16-19 in the text.\n"
     ]
    }
   ],
   "source": [
    "\n",
    "text = 'The quick brown fox jumps over the lazy dog.'\n",
    "words = 'fox'\n",
    "\n",
    "match = re.search(words, text)\n",
    "\n",
    "if match:\n",
    "    start, end = match.span()\n",
    "    print(f\"'{words}' found at position {start}-{end} in the text.\")\n",
    "else:\n",
    "    print(f\"'{words}' not found in the text.\")\n"
   ]
  },
  {
   "cell_type": "markdown",
   "id": "7c91b174",
   "metadata": {},
   "source": [
    "### Question 17\n",
    "\n",
    "\n",
    "###### Write a Python program to find the substrings within a string.\n",
    "\n",
    "Sample text : 'Python exercises, PHP exercises, C# exercises'\n",
    "\n",
    "Pattern : 'exercises'.\n"
   ]
  },
  {
   "cell_type": "code",
   "execution_count": 21,
   "id": "44e82db0",
   "metadata": {},
   "outputs": [
    {
     "name": "stdout",
     "output_type": "stream",
     "text": [
      "Found \"exercises\"\n",
      "Found \"exercises\"\n",
      "Found \"exercises\"\n"
     ]
    }
   ],
   "source": [
    "import re\n",
    "text = 'Python exercises, PHP exercises, C# exercises'\n",
    "pattern = 'exercises'\n",
    "for match in re.findall(pattern, text):\n",
    "    print('Found \"%s\"' % match)\n",
    "\t"
   ]
  },
  {
   "cell_type": "markdown",
   "id": "345338ca",
   "metadata": {},
   "source": [
    "### Question 18\n",
    "\n",
    "###### Write a Python program to find the occurrence and position of the substrings within a string."
   ]
  },
  {
   "cell_type": "code",
   "execution_count": 22,
   "id": "2d878346",
   "metadata": {},
   "outputs": [
    {
     "name": "stdout",
     "output_type": "stream",
     "text": [
      "Substring 'exercises' found at position 7-16\n",
      "Substring 'exercises' found at position 22-31\n",
      "Substring 'exercises' found at position 36-45\n"
     ]
    }
   ],
   "source": [
    "text = 'Python exercises, PHP exercises, C# exercises'\n",
    "pattern = 'exercises'\n",
    "matches = re.finditer(pattern, text)\n",
    "\n",
    "for match in matches:\n",
    "    start = match.start()\n",
    "    end = match.end()\n",
    "    occurrence = match.group()\n",
    "    print(f\"Substring '{occurrence}' found at position {start}-{end}\")\n"
   ]
  },
  {
   "cell_type": "markdown",
   "id": "e79cf730",
   "metadata": {},
   "source": [
    "### Question 19\n",
    "\n",
    "###### Write a Python program to convert a date of yyyy-mm-dd format to dd-mm-yyyy format."
   ]
  },
  {
   "cell_type": "code",
   "execution_count": 23,
   "id": "77989968",
   "metadata": {},
   "outputs": [
    {
     "name": "stdout",
     "output_type": "stream",
     "text": [
      "31-10-2023\n"
     ]
    }
   ],
   "source": [
    "from datetime import datetime\n",
    "\n",
    "input_date = '2023-10-31'\n",
    "# Parse the input date\n",
    "date_obj = datetime.strptime(input_date, '%Y-%m-%d')\n",
    "\n",
    "# Format the date in 'dd-mm-yyyy' format\n",
    "output_date = date_obj.strftime('%d-%m-%Y')\n",
    "\n",
    "print(output_date)\n"
   ]
  },
  {
   "cell_type": "markdown",
   "id": "90444370",
   "metadata": {},
   "source": [
    "### Question 20\n",
    "###### Create a function in python to find all decimal numbers with a precision of 1 or 2 in a string. The use of the re.compile() method is mandatory.\n",
    "\n",
    "Sample Text: \"01.12 0132.123 2.31875 145.8 3.01 27.25 0.25\"\n",
    "\n",
    "Expected Output: ['01.12', '145.8', '3.01', '27.25', '0.25']\n"
   ]
  },
  {
   "cell_type": "code",
   "execution_count": 24,
   "id": "32c1f2c3",
   "metadata": {},
   "outputs": [
    {
     "name": "stdout",
     "output_type": "stream",
     "text": [
      "['01.12', '145.8', '3.01', '27.25', '0.25']\n"
     ]
    }
   ],
   "source": [
    "def find_dec_nmbr(text):\n",
    "    # Compile regex pattern\n",
    "    pattern = re.compile(r'\\b\\d+\\.\\d{1,2}\\b')\n",
    "    matches = pattern.findall(text)  # Use re.findall() to find all matching decimal numbers\n",
    "\n",
    "    return matches\n",
    "\n",
    "sample_text = \"01.12 0132.123 2.31875 145.8 3.01 27.25 0.25\"\n",
    "\n",
    "# Find decimal numbers with precision of 1 or 2\n",
    "decimal_numbers = find_dec_nmbr(sample_text)\n",
    "\n",
    "print(decimal_numbers)\n"
   ]
  },
  {
   "cell_type": "markdown",
   "id": "6cc6963a",
   "metadata": {},
   "source": [
    "### Question 21\n",
    "\n",
    "###### Write a Python program to separate and print the numbers and their position of a given string."
   ]
  },
  {
   "cell_type": "code",
   "execution_count": 25,
   "id": "f60531db",
   "metadata": {},
   "outputs": [
    {
     "name": "stdout",
     "output_type": "stream",
     "text": [
      "Number: 7, Position: 8-9\n",
      "Number: 9, Position: 14-15\n",
      "Number: 3, Position: 50-51\n"
     ]
    }
   ],
   "source": [
    "import re\n",
    "\n",
    "# Sample text\n",
    "text = \"Why did 7 eat 9 ? Because you’re supposed to have 3 squared meals a day.\"\n",
    "\n",
    "# Use re.finditer() to find numbers and their positions\n",
    "for match in re.finditer(r'\\d+', text):\n",
    "    number = match.group()\n",
    "    start, end = match.start(), match.end()\n",
    "    print(f\"Number: {number}, Position: {start}-{end}\")\n"
   ]
  },
  {
   "cell_type": "markdown",
   "id": "02bd6dfa",
   "metadata": {},
   "source": [
    "### Question 22\n",
    "\n",
    "###### Write a regular expression in python program to extract maximum/largest numeric value from a string.\n",
    "\n",
    "Sample Text:  'My marks in each semester are: 947, 896, 926, 524, 734, 950, 642'\n",
    "\n",
    "Expected Output: 950\n"
   ]
  },
  {
   "cell_type": "code",
   "execution_count": 26,
   "id": "0f8fa9e3",
   "metadata": {},
   "outputs": [
    {
     "name": "stdout",
     "output_type": "stream",
     "text": [
      "950\n"
     ]
    }
   ],
   "source": [
    "text = 'My marks in each semester are: 947, 896, 926, 524, 734, 950, 642'\n",
    "value = re.findall(r'\\d+', text)\n",
    "\n",
    "# Find the maximum numeric value\n",
    "num_value = max(map(int, value))\n",
    "\n",
    "# Print the maximum numeric value\n",
    "print(num_value)\n"
   ]
  },
  {
   "cell_type": "markdown",
   "id": "1ddc5254",
   "metadata": {},
   "source": [
    "### Question 23\n",
    "\n",
    "###### Create a function in python to insert spaces between words starting with capital letters.\n",
    "\n",
    "Sample Text: “RegularExpressionIsAnImportantTopicInPython\"\n",
    "\n",
    "Expected Output: Regular Expression Is An Important Topic In Python\n",
    "\n"
   ]
  },
  {
   "cell_type": "code",
   "execution_count": 27,
   "id": "285c3445",
   "metadata": {},
   "outputs": [
    {
     "name": "stdout",
     "output_type": "stream",
     "text": [
      "Regular Expression Is An Important Topic In Python\n"
     ]
    }
   ],
   "source": [
    "def insert_spaces(text):\n",
    "    # Use re.sub() to insert spaces between capital words\n",
    "    result = re.sub(r'([a-z])([A-Z])', r'\\1 \\2', text)\n",
    "    return result\n",
    "\n",
    "sample_text = \"RegularExpressionIsAnImportantTopicInPython\"\n",
    "\n",
    "# Insert spaces between capital words\n",
    "output_text = insert_spaces(sample_text)\n",
    "\n",
    "print(output_text)\n"
   ]
  },
  {
   "cell_type": "markdown",
   "id": "680dcf64",
   "metadata": {},
   "source": [
    "### Question 24\n",
    "\n",
    "###### Python regex to find sequences of one upper case letter followed by lower case letters"
   ]
  },
  {
   "cell_type": "code",
   "execution_count": 28,
   "id": "5f24bc48",
   "metadata": {},
   "outputs": [
    {
     "name": "stdout",
     "output_type": "stream",
     "text": [
      "['Python', 'Regex', 'To', 'Find', 'Sequences', 'Of', 'One', 'Upper', 'Case', 'Letter', 'Followed', 'By', 'Lower', 'Case', 'Letters']\n"
     ]
    }
   ],
   "source": [
    "text = 'Python Regex To Find Sequences Of One Upper Case Letter Followed By Lower Case Letters'\n",
    "\n",
    "# Use re.findall() \n",
    "matches = re.findall(r'[A-Z][a-z]+', text)\n",
    "\n",
    "# Print the matches\n",
    "print(matches)\n"
   ]
  },
  {
   "cell_type": "markdown",
   "id": "cf144248",
   "metadata": {},
   "source": [
    "### Question 25\n",
    "\n",
    "###### Write a Python program to remove continuous duplicate words from Sentence using Regular Expression.\n",
    "\n",
    "Sample Text: \"Hello hello world world\"\n",
    "\n",
    "Expected Output: Hello hello world\n"
   ]
  },
  {
   "cell_type": "code",
   "execution_count": 29,
   "id": "c11397bc",
   "metadata": {},
   "outputs": [
    {
     "name": "stdout",
     "output_type": "stream",
     "text": [
      "Hello world\n"
     ]
    }
   ],
   "source": [
    "text = \"Hello hello world world\"\n",
    "\n",
    "# Use re.sub() with a regular expression to remove continuous duplicate words\n",
    "cleaned_text = re.sub(r'\\b(\\w+)\\s+\\1\\b', r'\\1', text, flags=re.IGNORECASE)\n",
    "\n",
    "# Print the cleaned text\n",
    "print(cleaned_text)\n"
   ]
  },
  {
   "cell_type": "markdown",
   "id": "0c04892a",
   "metadata": {},
   "source": [
    "### Question 26\n",
    "\n",
    "###### Write a python program using RegEx to accept string ending with alphanumeric character."
   ]
  },
  {
   "cell_type": "code",
   "execution_count": 30,
   "id": "6b583245",
   "metadata": {},
   "outputs": [
    {
     "name": "stdout",
     "output_type": "stream",
     "text": [
      "'Amzad0786' ends with an alphanumeric character.\n"
     ]
    }
   ],
   "source": [
    "string = \"Amzad0786\"\n",
    "\n",
    "pattern = r'^.*[a-zA-Z0-9]$'\n",
    "\n",
    "#  checking  if the input string matches the pattern\n",
    "if re.match(pattern,string):\n",
    "    print(f\"'{string}' ends with an alphanumeric character.\")\n",
    "else:\n",
    "    print(f\"'{string}' not end with an alphanumeric character.\")\n"
   ]
  },
  {
   "cell_type": "markdown",
   "id": "10855b8f",
   "metadata": {},
   "source": [
    "### Question 27\n",
    "\n",
    "###### Write a python program using RegEx to extract the hashtags.\n",
    "\n",
    "Sample Text:  \"\"\"RT @kapil_kausik: #Doltiwal I mean #xyzabc is \"hurt\" by #Demonetization as the same has rendered USELESS <ed><U+00A0><U+00BD><ed><U+00B1><U+0089> \"acquired funds\" No wo\"\"\"\n",
    "\n",
    "Expected Output: ['#Doltiwal', '#xyzabc', '#Demonetization']\n"
   ]
  },
  {
   "cell_type": "code",
   "execution_count": 31,
   "id": "2bf7894f",
   "metadata": {},
   "outputs": [
    {
     "name": "stdout",
     "output_type": "stream",
     "text": [
      "['#Doltiwal', '#xyzabc', '#Demonetization']\n"
     ]
    }
   ],
   "source": [
    "text = 'RT @kapil_kausik: #Doltiwal I mean #xyzabc is \"hurt\" by #Demonetization as the same has rendered USELESS <ed><U+00A0><U+00BD><ed><U+00B1><U+0089> \"acquired funds\" No wo'\n",
    "\n",
    "pattern = r'#\\w+'\n",
    "\n",
    "\n",
    "hashtags = re.findall(pattern, text)\n",
    "    \n",
    "print(hashtags)"
   ]
  },
  {
   "cell_type": "markdown",
   "id": "6e0048b6",
   "metadata": {},
   "source": [
    "### Question 28\n",
    "\n",
    "###### Write a python program using RegEx to remove <U+..> like symbols\n",
    "\n",
    "###### Check the below sample text, there are strange symbols something of the sort <U+..> all over the place. You need to come up with a general Regex expression that will cover all such symbols.\n",
    "\n",
    "\n",
    "Sample Text: \"@Jags123456 Bharat band on 28??<ed><U+00A0><U+00BD><ed><U+00B8><U+0082>Those who  are protesting #demonetization  are all different party leaders\"\n",
    "\n",
    "Expected Output: @Jags123456 Bharat band on 28??<ed><ed>Those who  are protesting #demonetization  are all different party leaders\n"
   ]
  },
  {
   "cell_type": "code",
   "execution_count": 32,
   "id": "731a2830",
   "metadata": {},
   "outputs": [
    {
     "name": "stdout",
     "output_type": "stream",
     "text": [
      "@Jags123456 Bharat band on 28??<ed><ed>Those who  are protesting #demonetization  are all different party leaders\n"
     ]
    }
   ],
   "source": [
    "text = \"@Jags123456 Bharat band on 28??<ed><U+00A0><U+00BD><ed><U+00B8><U+0082>Those who  are protesting #demonetization  are all different party leaders\"\n",
    "\n",
    "pattern = r'<U\\+[\\w\\d]+>'\n",
    "cleaned_text = re.sub(pattern, '', text)\n",
    "print(cleaned_text)\n"
   ]
  },
  {
   "cell_type": "markdown",
   "id": "709f3a61",
   "metadata": {},
   "source": [
    "### Question 29\n",
    "\n",
    "###### Write a python program to extract dates from the text stored in the text file.\n",
    "\n",
    "Sample Text: Ron was born on 12-09-1992 and he was admitted to school 15-12-1999.\n",
    "\n",
    "Note- Store this sample text in the file and then extract dates.\n"
   ]
  },
  {
   "cell_type": "code",
   "execution_count": 33,
   "id": "e5665805",
   "metadata": {},
   "outputs": [
    {
     "name": "stdout",
     "output_type": "stream",
     "text": [
      "12-09-1992\n",
      "15-12-1999\n"
     ]
    }
   ],
   "source": [
    "with open('Sample_text.txt', 'r') as file:\n",
    "    text = file.read()\n",
    "\n",
    "# Define a regular expression pattern to match dates in the format DD-MM-YYYY\n",
    "date_pattern = r'\\d{2}-\\d{2}-\\d{4}'\n",
    "\n",
    "dates = re.findall(date_pattern, text)\n",
    "\n",
    "for date in dates:\n",
    "    print(date)\n"
   ]
  },
  {
   "cell_type": "markdown",
   "id": "351f46b4",
   "metadata": {},
   "source": [
    "# Question 30\n",
    "\n",
    "###### Create a function in python to remove all words from a string of length between 2 and 4.\n",
    "###### The use of the re.compile() method is mandatory.\n",
    "\n",
    "Sample Text: \"The following example creates an ArrayList with a capacity of 50 elements. 4 elements are then added to the ArrayList and the ArrayList is trimmed accordingly.\"\n",
    "\n",
    "Expected Output:  following example creates ArrayList a capacity elements. 4 elements added ArrayList ArrayList trimmed accordingly.\n"
   ]
  },
  {
   "cell_type": "code",
   "execution_count": 34,
   "id": "a1ae3984",
   "metadata": {},
   "outputs": [
    {
     "name": "stdout",
     "output_type": "stream",
     "text": [
      " following example creates  ArrayList  a capacity   elements. 4 elements   added   ArrayList   ArrayList  trimmed accordingly.\n"
     ]
    }
   ],
   "source": [
    "def remove_length(text):\n",
    "    \n",
    "    pattern = re.compile(r'\\b\\w{2,4}\\b')\n",
    "    cleaned_text = pattern.sub('', text)\n",
    "    return cleaned_text\n",
    "\n",
    "\n",
    "sample_text = \"The following example creates an ArrayList with a capacity of 50 elements. 4 elements are then added to the ArrayList and the ArrayList is trimmed accordingly.\"\n",
    "cleaned_text = remove_length(sample_text)\n",
    "\n",
    "print(cleaned_text)\n"
   ]
  },
  {
   "cell_type": "code",
   "execution_count": null,
   "id": "0c27996d",
   "metadata": {},
   "outputs": [],
   "source": []
  },
  {
   "cell_type": "code",
   "execution_count": null,
   "id": "52aef3b3",
   "metadata": {},
   "outputs": [],
   "source": []
  }
 ],
 "metadata": {
  "kernelspec": {
   "display_name": "Python 3 (ipykernel)",
   "language": "python",
   "name": "python3"
  },
  "language_info": {
   "codemirror_mode": {
    "name": "ipython",
    "version": 3
   },
   "file_extension": ".py",
   "mimetype": "text/x-python",
   "name": "python",
   "nbconvert_exporter": "python",
   "pygments_lexer": "ipython3",
   "version": "3.11.5"
  }
 },
 "nbformat": 4,
 "nbformat_minor": 5
}
